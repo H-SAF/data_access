{
 "cells": [
  {
   "cell_type": "markdown",
   "metadata": {},
   "source": [
    "<div>\n",
    "<img src=\"../image/images.png\" width=\"100%\"/>\n",
    "</div>"
   ]
  },
  {
   "cell_type": "markdown",
   "metadata": {},
   "source": [
    "<h1>\n",
    "    <center>\n",
    "        H64 Data Product\n",
    "        <br>\n",
    "        <br>\n",
    "        Analysis\n",
    "    </center>\n",
    "</h1>"
   ]
  },
  {
   "cell_type": "markdown",
   "metadata": {},
   "source": [
    "## Introduction \n",
    "The H64 product provides high-resolution satellite-derived rainfall estimates that are essential for understanding precipitation patterns and their impacts. This analysis focuses on leveraging the H64 dataset to extract meaningful insights into rainfall distribution, frequency, and temporal trends over a defined area of interest (AOI) and period.\n",
    "\n",
    "The objectives of this analysis include:  \n",
    "- Visualizing spatial and temporal rainfall variability.  \n",
    "- Performing statistical evaluations to characterize the rainfall dataset.  \n",
    "- Highlighting patterns and anomalies that inform hydrological and climatological studies.  \n",
    "\n",
    "By combining advanced data visualization techniques with statistical tools, this analysis aims to provide actionable insights into the behavior of precipitation across the study area. The methodologies and results presented here can support decision-making processes in various fields, including water resource management, agriculture, and disaster risk assessment.  \n",
    "\n",
    "In the following sections, you will find detailed explorations of the H64 rainfall data, beginning with its visualization and progressing through statistical and frequency analyses."
   ]
  },
  {
   "cell_type": "markdown",
   "metadata": {},
   "source": [
    "### Libraries import\n",
    "This code cell imports the necessary libraries and modules required for the analysis of the H64 Accumulated Precipitation data product. These libraries enable data visualization and statistical evaluation, ensuring a seamless workflow for geospatial and temporal analysis."
   ]
  },
  {
   "cell_type": "code",
   "execution_count": null,
   "metadata": {},
   "outputs": [],
   "source": [
    "import os\n",
    "from datetime import datetime, date\n",
    "\n",
    "import numpy as np\n",
    "import matplotlib.pyplot as plt\n",
    "import xarray as xr\n",
    "import geopandas as gpd\n",
    "from IPython.display import display, IFrame\n",
    "from shapely.geometry import Polygon\n",
    "from scipy.stats import skew\n",
    "import matplotlib.dates as mdates\n",
    "\n",
    "from hsaf_data_access import HSAFDataAccess as data_access"
   ]
  },
  {
   "cell_type": "markdown",
   "metadata": {},
   "source": [
    "### Data Loading  \n",
    "\n",
    "This cell identifies and loads the H64 Accumulated Precipitation data files from the `data` directory. It checks for available NetCDF files, sorts them for proper sequencing, and combines them into a single dataset using `xarray`. This ensures the data is ready for analysis across multiple files."
   ]
  },
  {
   "cell_type": "code",
   "execution_count": null,
   "metadata": {},
   "outputs": [],
   "source": [
    "# list the files in the data path and sort them\n",
    "filelist = [f for f in os.listdir('data') if f.endswith('.nc')]\n",
    "# Check if the filelist is empty or None\n",
    "if not filelist:\n",
    "    raise ValueError(\"No files found in the directory: {}\".format(data_path))\n",
    "else:\n",
    "    filelist.sort()\n",
    "    \n",
    "# Open the files for analysis\n",
    "ds = xr.open_mfdataset([os.path.join('data', f) for f in filelist], combine='by_coords', engine='netcdf4')"
   ]
  },
  {
   "cell_type": "markdown",
   "metadata": {},
   "source": [
    "### Total Precipitation Analysis  \n",
    "\n",
    "This section calculates the total accumulated rainfall (`acc_rr`) over the entire study period by summing data across the time dimension. The results are visualized as a spatial map, highlighting the distribution of total rainfall across the region. The map uses a color scale to represent precipitation intensity, with values labeled in millimeters (mm). The figure is saved as an image for reference."
   ]
  },
  {
   "cell_type": "code",
   "execution_count": null,
   "metadata": {},
   "outputs": [],
   "source": [
    "total_rr = ds['acc_rr'].sum(dim='time', skipna=True)\n",
    "    \n",
    "tt = total_rr.plot(\n",
    "        x='longitude',\n",
    "        y='latitude',\n",
    "        cmap='rainbow',\n",
    "        cbar_kwargs={\"label\": \"Total Rain rates [mm]\", \"pad\": 0.05},\n",
    "        vmin=total_rr.min().compute(),\n",
    "        vmax=total_rr.max().compute()\n",
    "    )\n",
    "\n",
    "plt.title('Total Precipitation Estimates', fontsize=12.5)\n",
    "\n",
    "# Save the figure\n",
    "plt.savefig('output/H64_Total_Rainfall.png', dpi=300)"
   ]
  },
  {
   "cell_type": "markdown",
   "metadata": {},
   "source": [
    "Assuming the AOI is provided as a shapefile or a shapefile is available, this cell focuses on overlaying it on the plot.\n",
    "\n",
    "1. **Generate AOI Selection Widget**:  \n",
    "   - The `create_shp_widgets` method from `data_access` generates an interactive widget, allowing users to select a shapefile representing the AOI.\n",
    "\n",
    "2. **Read AOI Shapefile**:  \n",
    "   - Reads the selected shapefile into a GeoDataFrame (`aoi_gdf`) using `geopandas`. This GeoDataFrame represents the boundaries or geometry of the AOI.\n",
    "\n",
    "3. **Overlay AOI on Precipitation Plots**:  \n",
    "   - Iterates over each subplot (`ax`) in the precipitation plots and overlays the AOI boundaries (`aoi_gdf.boundary`) using black lines for clear visual delineation of the region.\n",
    "\n",
    "4. **Save the Updated Visualization**:  \n",
    "   - Exports the updated precipitation plot with the AOI overlay as a high-resolution image file for documentation or further analysis."
   ]
  },
  {
   "cell_type": "code",
   "execution_count": null,
   "metadata": {},
   "outputs": [],
   "source": [
    "aoi_shp = data_access.create_shp_widgets()\n",
    "aoi_shp"
   ]
  },
  {
   "cell_type": "code",
   "execution_count": null,
   "metadata": {},
   "outputs": [],
   "source": [
    "aoi_gdf = gpd.read_file(aoi_shp.children[0].value)\n",
    "# Plot the AOI boundary on top of the plot\n",
    "aoi_gdf.boundary.plot(ax=tt.axes, color='black', linewidth=0.1)\n",
    "\n",
    "tt.figure.savefig('output/H64_Total_Rainfall.png', dpi=300)"
   ]
  },
  {
   "cell_type": "markdown",
   "metadata": {},
   "source": [
    "### Mean Precipitation Analysis  \n",
    "\n",
    "This section computes the mean rainfall (`acc_rr`) over the study period by averaging the data along the time dimension. The results are displayed as a spatial map, showing the average precipitation intensity in millimeters (mm) across the region. This visualization highlights areas with consistent rainfall patterns. The figure is saved for documentation purposes."
   ]
  },
  {
   "cell_type": "code",
   "execution_count": null,
   "metadata": {
    "scrolled": true
   },
   "outputs": [],
   "source": [
    "mean_rr = ds['acc_rr'].mean(dim='time', skipna=True)\n",
    "\n",
    "tt_mean = mean_rr.plot(\n",
    "            x='longitude',\n",
    "            y='latitude',\n",
    "            cmap='rainbow',\n",
    "            cbar_kwargs={\"label\": \"Mean Rain rates [mm]\", \"pad\": 0.05},\n",
    "            vmin=mean_rr.min().compute(),\n",
    "            vmax=mean_rr.max().compute()\n",
    "        )\n",
    "    \n",
    "plt.title('Mean Precipitation Estimates', fontsize=12.5)\n",
    "\n",
    "# Save the figure\n",
    "plt.savefig('output/H64_Mean_Rainfall.png', dpi=300)\n",
    "\n"
   ]
  },
  {
   "cell_type": "code",
   "execution_count": null,
   "metadata": {
    "scrolled": true
   },
   "outputs": [],
   "source": [
    "aoi_shp = data_access.create_shp_widgets()\n",
    "aoi_shp"
   ]
  },
  {
   "cell_type": "code",
   "execution_count": null,
   "metadata": {},
   "outputs": [],
   "source": [
    "aoi_gdf = gpd.read_file(aoi_shp.children[0].value)\n",
    "# Plot the AOI boundary on top of the plot\n",
    "aoi_gdf.boundary.plot(ax=tt_mean.axes, color='black', linewidth=0.1)\n",
    "\n",
    "tt_mean.figure.savefig('output/H64_Mean_Rainfall.png', dpi=300)"
   ]
  },
  {
   "cell_type": "markdown",
   "metadata": {},
   "source": [
    "### Daily Mean Rainfall Time Series  \n",
    "\n",
    "This section evaluates the temporal variation of rainfall over the study period by calculating the daily mean precipitation (`acc_rr`) across all spatial dimensions. The resulting time series plot provides insights into rainfall trends, seasonal patterns, and any significant fluctuations. If only one file is available, a time series plot cannot be generated. The figure is saved for further reference."
   ]
  },
  {
   "cell_type": "code",
   "execution_count": null,
   "metadata": {},
   "outputs": [],
   "source": [
    "if len(filelist) == 1:\n",
    "    print(f'Cannot produce time plot for a day\\'s file')\n",
    "else:\n",
    "    # Calculate daily mean rainfall over the spatial dimensions\n",
    "    mean_per_day = ds['acc_rr'].mean(dim=['longitude', 'latitude'], skipna=True)\n",
    "    mean_per_day['time'].dt\n",
    "    mean_per_day.plot(marker='o', linestyle='-', color='blue', label='Mean Rainfall')\n",
    "\n",
    "    # # Add labels and title\n",
    "    plt.title('Daily Mean Rainfall Time Series', fontsize=12.5)\n",
    "    plt.xlabel('Day', fontsize=12)\n",
    "    plt.ylabel('Mean Rain rates [mm]', fontsize=12)\n",
    "    plt.savefig('output/H64_Time_Series.png', dpi=300)"
   ]
  },
  {
   "cell_type": "markdown",
   "metadata": {},
   "source": [
    "### Rainfall Frequency Distribution  \n",
    "\n",
    "This code analyzes the frequency distribution of accumulated rainfall data by dividing it into 10 bins based on its range. The histogram visualizes the distribution on a logarithmic scale, highlighting patterns across different rainfall intensities. This analysis helps to understand the occurrence of various rainfall rates over the study period. The resulting figure is saved for future reference."
   ]
  },
  {
   "cell_type": "code",
   "execution_count": null,
   "metadata": {},
   "outputs": [],
   "source": [
    "# Flatten the accumulated rainfall data\n",
    "rainfall_data_flat = ds['acc_rr'].values.flatten()\n",
    "\n",
    "rainfall_data_flat = rainfall_data_flat[~np.isnan(rainfall_data_flat)]\n",
    "\n",
    "# Find the minimum and maximum values for binning\n",
    "rainfall_min = np.min(rainfall_data_flat)\n",
    "rainfall_max = np.max(rainfall_data_flat)\n",
    "\n",
    "# Number of bins for the histogram\n",
    "num_bins = 10\n",
    "bins = np.linspace(rainfall_min, rainfall_max, num_bins)\n",
    "\n",
    "# Calculate the frequency distribution\n",
    "rainfall_freq, bin_edges = np.histogram(rainfall_data_flat, bins=bins)\n",
    "\n",
    "# Plot with Logarithmic Y-axis\n",
    "plt.figure(figsize=(10, 6))\n",
    "plt.bar(bin_edges[:-1], rainfall_freq, width=np.diff(bin_edges), edgecolor=\"black\", align=\"edge\", color='skyblue')\n",
    "plt.yscale('log')\n",
    "\n",
    "plt.title('Rainfall Frequency Distribution (Log Scale)', fontsize=12.5)\n",
    "plt.xlabel('Rainfall (mm)', fontsize=12)\n",
    "plt.ylabel('Frequency (Log Scale)', fontsize=12)\n",
    "plt.xticks(bin_edges,)\n",
    "\n",
    "plt.savefig('output/H64_log_freq.png', dpi=300)"
   ]
  },
  {
   "cell_type": "markdown",
   "metadata": {},
   "source": [
    "### Statistical Analysis of Rainfall\n",
    "\n",
    "This code computes key statistical metrics for the accumulated rainfall data, including the mean, median, standard deviation, and skewness. These statistics provide a summary of the rainfall distribution for the defined period and Area of Interest (AOI). The results help assess the central tendency, variability, and asymmetry of the rainfall data. The calculated statistics are printed to the console and saved in a text file for further analysis."
   ]
  },
  {
   "cell_type": "code",
   "execution_count": null,
   "metadata": {},
   "outputs": [],
   "source": [
    "mean_rainfall = np.mean(rainfall_data_flat)\n",
    "median_rainfall = np.median(rainfall_data_flat)\n",
    "std_dev_rainfall = np.std(rainfall_data_flat, ddof=1)  # Sample standard deviation\n",
    "skewness_rainfall = skew(rainfall_data_flat)\n",
    "\n",
    "statistics = f\"\"\"Rainfall Statistics for the defined period and AOI:\n",
    "----------------------\n",
    "Overall Mean Rainfall:          {mean_rainfall:.2f} mm\n",
    "Median Rainfall:                {median_rainfall:.2f} mm\n",
    "Standard Deviation of Rainfall: {std_dev_rainfall:.2f} mm\n",
    "Skewness of Rainfall:           {skewness_rainfall:.2f}\n",
    "\"\"\"\n",
    "\n",
    "print(statistics)\n",
    "\n",
    "with open('output/rainfall_statistics.txt', 'w') as f:\n",
    "    f.write(statistics)"
   ]
  },
  {
   "cell_type": "markdown",
   "metadata": {},
   "source": [
    "<table style=\"width: 100%; border-collapse: collapse;\">\n",
    "    <tr>\n",
    "        <td style=\"text-align: left; font-size: 15px;\">\n",
    "            <a href=\"data_visualisation.ipynb\" style=\"text-decoration:none;\">&larr; Data Visualisation </a>\n",
    "        </td>\n",
    "        <td style=\"text-align: right; font-size: 15px;\">\n",
    "            <a href=\"case_study.ipynb\" style=\"text-decoration:none;\"> Sample case study &rarr;</a>\n",
    "        </td>\n",
    "    </tr>\n",
    "</table>"
   ]
  },
  {
   "cell_type": "code",
   "execution_count": null,
   "metadata": {},
   "outputs": [],
   "source": []
  }
 ],
 "metadata": {
  "kernelspec": {
   "display_name": "Python 3 (ipykernel)",
   "language": "python",
   "name": "python3"
  },
  "language_info": {
   "codemirror_mode": {
    "name": "ipython",
    "version": 3
   },
   "file_extension": ".py",
   "mimetype": "text/x-python",
   "name": "python",
   "nbconvert_exporter": "python",
   "pygments_lexer": "ipython3",
   "version": "3.8.17"
  }
 },
 "nbformat": 4,
 "nbformat_minor": 2
}
