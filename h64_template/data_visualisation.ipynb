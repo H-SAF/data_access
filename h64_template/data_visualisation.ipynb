{
 "cells": [
  {
   "cell_type": "markdown",
   "metadata": {},
   "source": [
    "<div>\n",
    "<img src=\"../image/images.png\" width=\"100%\"/>\n",
    "</div>"
   ]
  },
  {
   "cell_type": "markdown",
   "metadata": {},
   "source": [
    "<h1>\n",
    "    <center>\n",
    "        H64 Data Product\n",
    "        <br>\n",
    "        <br>\n",
    "        Visualisation\n",
    "    </center>\n",
    "</h1>"
   ]
  },
  {
   "cell_type": "markdown",
   "metadata": {},
   "source": [
    "### **Introduction and Objective**\n",
    "In this notebook, we explore the H64 precipitation dataset, a high-resolution satellite-based product from the Hydrology SAF (H-SAF) initiative. The goal is to offer a guide for visualizing the H64 data downloaded in the previous notebook for the desired region and time frame. \n",
    "\n",
    "\n",
    "### **Library Imports**\n",
    "The necessary Python libraries for data manipulation, visualization and handling the H64 data products are imported. This section includes standard libraries, third-party modules for advanced processing, and custom functions for H64 data handling."
   ]
  },
  {
   "cell_type": "code",
   "execution_count": null,
   "metadata": {},
   "outputs": [],
   "source": [
    "import os\n",
    "import math\n",
    "from datetime import datetime\n",
    "\n",
    "import pandas as pd\n",
    "import xarray as xr\n",
    "import matplotlib.pyplot as plt\n",
    "import geopandas as gpd\n",
    "from shapely.geometry import Polygon\n",
    "import ipywidgets as widgets\n",
    "\n",
    "from hsaf_data_access import HSAFDataAccess as data_access"
   ]
  },
  {
   "cell_type": "markdown",
   "metadata": {},
   "source": [
    "## Data reading and pre-processing\n",
    "\n",
    "The code snippet below retrieves the list of files in the `data` directory, sorts them alphabetically, and then determine the number of rows and columns needed for plotting in a square grid layout."
   ]
  },
  {
   "cell_type": "markdown",
   "metadata": {},
   "source": [
    "This cell performs the preliminary file handling and layout preparation necessary for visualizing H64 data stored in NetCDF format (`.nc` files). \n",
    "\n",
    "1. **File Listing and Sorting**:  \n",
    "   The cell begins by scanning the `data` directory to identify all files with the `.nc` extension, which are assumed to contain H64 precipitation data. These files are then sorted alphabetically to ensure a consistent processing order. A validation step ensures that the directory contains relevant files. If no `.nc` files are found, an error is raised, guiding the user to check the data directory.\n",
    "\n",
    "2. **Grid Layout Calculation**:  \n",
    "   To prepare for data visualization, the number of files is used to calculate the dimensions of a square grid layout for subplots. This ensures that the visualization can accommodate all files efficiently while maintaining a clean and organized appearance."
   ]
  },
  {
   "cell_type": "code",
   "execution_count": null,
   "metadata": {},
   "outputs": [],
   "source": [
    "# list the files in the data path and sort them\n",
    "filelist = [f for f in os.listdir('data') if f.endswith('.nc')]\n",
    "# Check if the filelist is empty or None\n",
    "if not filelist:\n",
    "    raise ValueError(\"No files found in the directory: {}\".format(data_path))\n",
    "else:\n",
    "    filelist.sort()\n",
    "    \n",
    "# Get the number of files in the data file and get the ceil of the sqrt to determine the subplot dimensions\n",
    "plt_dim = math.ceil(\n",
    "                math.sqrt(\n",
    "                    len(filelist)\n",
    "                )\n",
    "            )"
   ]
  },
  {
   "cell_type": "markdown",
   "metadata": {},
   "source": [
    "\n",
    "This cell initiates the data exploration process by loading and previewing the contents of the first H64 data file.\n",
    "\n",
    "1. **File Loading**:  \n",
    "   The path to the first `.nc` file in the sorted file list is constructed, and the file loaded using `xarray` with the NetCDF4 engine.\n",
    "\n",
    "2. **Data Conversion**:  \n",
    "   The loaded dataset is converted into a pandas DataFrame for tabular exploration of the dataset's structure and attributes.\n",
    "\n",
    "3. **Preview**:  \n",
    "   The `.head()` method displays the first five rows of the DataFrame to provide a quick glance at the dataset's structure and contents. Also, the dataset object `ds` is displayed to examine its metadata, dimensions, and variable attributes directly in its native xarray structure."
   ]
  },
  {
   "cell_type": "code",
   "execution_count": null,
   "metadata": {},
   "outputs": [],
   "source": [
    "# Load the first file\n",
    "file_path = os.path.join('data', filelist[0])\n",
    "ds = xr.open_dataset(file_path, engine='netcdf4')\n",
    "\n",
    "# Convert to DataFrame and view the first 5 rows\n",
    "df = ds.to_dataframe().reset_index()\n",
    "df.head()"
   ]
  },
  {
   "cell_type": "code",
   "execution_count": null,
   "metadata": {},
   "outputs": [],
   "source": [
    "ds"
   ]
  },
  {
   "cell_type": "markdown",
   "metadata": {},
   "source": [
    "This cell processes and visualizes precipitation data from the downloaded NetCDF files. It:  \n",
    "\n",
    "1. **Loads and Combines Data**: Opens all NetCDF files in the directory, combines them along their shared coordinates (`combine='by_coords'`).  \n",
    "2. **Extracts Time Range**: Calculates the earliest (`datestart`) and latest (`dateend`) timestamps in the dataset.  \n",
    "3. **Plots Rainfall Data**: Visualizes the accumulated rainfall (`acc_rr`) on subplots for each time step, laid out in a grid (`col_wrap=plt_dim`). The color scale (`cmap=\"rainbow\"`) represents rainfall intensity. This highlights the distribution of rainfall over time, offering a spatial representation of precipitation intensity across the study area. Each map shows rainfall estimates for a specific time period, helping to uncover trends and variations in precipitation patterns. \n",
    "\n",
    "4. **Adds Dynamic Titles**: Sets a descriptive title based on the time range of the data.  \n",
    "5. **Saves Visualization**: Exports the plot as an image file in the `output` directory.  \n",
    "\n",
    "For statistical analysis of the dataset, use the `Analysis` button below."
   ]
  },
  {
   "cell_type": "code",
   "execution_count": null,
   "metadata": {
    "scrolled": true
   },
   "outputs": [],
   "source": [
    "with xr.open_mfdataset([os.path.join('data', f) for f in filelist], engine='netcdf4', combine='by_coords') as ds:\n",
    "    datestart = pd.to_datetime(ds['time'].min().values)\n",
    "    dateend = pd.to_datetime(ds['time'].max().values)\n",
    "\n",
    "    aa = ds['acc_rr'].plot(x=\"longitude\", y=\"latitude\", col=\"time\", col_wrap=plt_dim, cmap=\"rainbow\", cbar_kwargs={\"label\": \"Rain rates [mm]\"})\n",
    "    \n",
    "    if datestart > dateend:\n",
    "        print(\"Warning: Start date is after the end date. Please check your input dates.\")\n",
    "    else:\n",
    "        if datestart.month != dateend.month:\n",
    "            # Different months\n",
    "            title_start = datestart.date().strftime(\"%d/%m\")\n",
    "        else:\n",
    "            # Same month, different days\n",
    "            title_start = datestart.date().strftime(\"%d\")\n",
    "        title_end = dateend.date().strftime(\"%d/%m/%Y\")\n",
    "        title = f\"{title_start} - {title_end} H64 rainfall\" if datestart != dateend else f\"{datestart.date()} H64 rainfall\"\n",
    "    aa.fig.suptitle(title, fontsize=12)\n",
    "    aa.fig.subplots_adjust(top=0.9, right=0.82)\n",
    "    aa.fig.savefig('output/H64_Daily_Rainfall_plot.png', dpi=300)"
   ]
  },
  {
   "cell_type": "markdown",
   "metadata": {},
   "source": [
    "Assuming the AOI is provided as a shapefile or a shapefile is available, this cell focuses on overlaying it on the precipitation plots.\n",
    "\n",
    "1. **Generate AOI Selection Widget**:  \n",
    "   - The `create_shp_widgets` method from `data_access` generates an interactive widget, allowing users to select a shapefile representing the AOI.\n",
    "\n",
    "2. **Read AOI Shapefile**:  \n",
    "   - Reads the selected shapefile into a GeoDataFrame (`aoi_gdf`) using `geopandas`. This GeoDataFrame represents the boundaries or geometry of the AOI.\n",
    "\n",
    "3. **Overlay AOI on Precipitation Plots**:  \n",
    "   - Iterates over each subplot (`ax`) in the precipitation plots and overlays the AOI boundaries (`aoi_gdf.boundary`) using black lines for clear visual delineation of the region.\n",
    "\n",
    "4. **Save the Updated Visualization**:  \n",
    "   - Exports the updated precipitation plot with the AOI overlay as a high-resolution image file for documentation or further analysis."
   ]
  },
  {
   "cell_type": "code",
   "execution_count": null,
   "metadata": {},
   "outputs": [],
   "source": [
    "aoi_shp = data_access.create_shp_widgets()\n",
    "aoi_shp"
   ]
  },
  {
   "cell_type": "code",
   "execution_count": null,
   "metadata": {},
   "outputs": [],
   "source": [
    "aoi_gdf = gpd.read_file(aoi_shp.children[0].value)\n",
    "for ax in aa.axs.flat:\n",
    "    # Plot the AOI boundary on top of each plot\n",
    "    aoi_gdf.boundary.plot(ax=ax, color='black', linewidth=0.1)\n",
    "\n",
    "aa.fig.savefig('output/H64_Daily_Rainfall_plot.png', dpi=300)"
   ]
  },
  {
   "cell_type": "markdown",
   "metadata": {},
   "source": [
    "<table style=\"width: 100%; border-collapse: collapse;\">\n",
    "    <tr>\n",
    "        <td style=\"text-align: left; font-size: 15px;\">\n",
    "            <a href=\"data_download.ipynb\" style=\"text-decoration:none;\">&larr; Data Download</a>\n",
    "        </td>\n",
    "        <td style=\"text-align: right; font-size: 15px;\">\n",
    "            <a href=\"data_analysis.ipynb\" style=\"text-decoration:none;\">Analysis &rarr;</a>\n",
    "        </td>\n",
    "    </tr>\n",
    "</table>"
   ]
  },
  {
   "cell_type": "code",
   "execution_count": null,
   "metadata": {},
   "outputs": [],
   "source": []
  }
 ],
 "metadata": {
  "kernelspec": {
   "display_name": "Python 3 (ipykernel)",
   "language": "python",
   "name": "python3"
  },
  "language_info": {
   "codemirror_mode": {
    "name": "ipython",
    "version": 3
   },
   "file_extension": ".py",
   "mimetype": "text/x-python",
   "name": "python",
   "nbconvert_exporter": "python",
   "pygments_lexer": "ipython3",
   "version": "3.8.17"
  }
 },
 "nbformat": 4,
 "nbformat_minor": 2
}
