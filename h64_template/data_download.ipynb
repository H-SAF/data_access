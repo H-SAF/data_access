{
 "cells": [
  {
   "cell_type": "markdown",
   "metadata": {},
   "source": [
    "<div>\n",
    "<img src=\"../image/images.png\" width=\"100%\"/>\n",
    "</div>"
   ]
  },
  {
   "cell_type": "markdown",
   "metadata": {},
   "source": [
    "<h1>\n",
    "    <center>\n",
    "        H SAF H64 Accumulated Precipitation Product\n",
    "        <br>\n",
    "        <br>\n",
    "        Data Download\n",
    "    </center>\n",
    "</h1>"
   ]
  },
  {
   "cell_type": "markdown",
   "metadata": {},
   "source": [
    "This section guides you through downloading the H64 data product using the `download_h64()` method from the `H64DataProcessor` library. The process is designed to be user-friendly, leveraging widgets for interactive input.  \n",
    "\n",
    "### Key Steps  \n",
    "\n",
    "1. **User Authentication**:  \n",
    "   Use your H-SAF credentials (username and password) to access the data server securely.  \n",
    "\n",
    "2. **Specify the Time Period**:  \n",
    "   Set the start and end dates for the desired data range using the date picker widgets.  \n",
    "\n",
    "3. **Define the Area of Interest (AOI)**:  \n",
    "   You can define the study area in two ways:  \n",
    "   - **Bounding Box**: Provide corner coordinates (lower left, lower right, upper right, and upper left) in WGS 84 format.  \n",
    "   - **Shapefile**: Upload a shapefile containing the AOI. Ensure the file is in the correct format and includes accurate spatial information.  \n",
    "\n",
    "4. **Download Process**:  \n",
    "   Based on your AOI selection (bounding box or shapefile), the `download_h64()` method retrieves data for the specified time period and region. The downloaded data is stored in a `data` folder for easy access and organization.  \n",
    "\n",
    "### Error Handling  \n",
    "If any issues arise during the download process (e.g., invalid credentials, unsupported AOI format), appropriate error messages will be displayed to guide you in resolving them.\n",
    "\n",
    "By following these steps, you can ensure seamless access to the H64 dataset, enabling further analysis and visualization in subsequent sections."
   ]
  },
  {
   "cell_type": "markdown",
   "metadata": {},
   "source": [
    "### Libraries import\n",
    "This code cell imports the necessary libraries and modules required for the download and processing of the H64 Accumulated Precipitation data product. These libraries facilitate various operations, such as date handling, user interface creation, geospatial data manipulation, and the custom functionality for interacting with the H64 data server."
   ]
  },
  {
   "cell_type": "code",
   "execution_count": null,
   "metadata": {},
   "outputs": [],
   "source": [
    "import os\n",
    "from datetime import date\n",
    "\n",
    "import numpy as np\n",
    "import ipywidgets as widgets\n",
    "import geopandas as gpd\n",
    "from shapely.geometry import Polygon\n",
    "\n",
    "from hsaf_data_access import HSAFDataAccess as data_access"
   ]
  },
  {
   "cell_type": "markdown",
   "metadata": {},
   "source": [
    "### User Authentication  \n",
    "This code cell creates widgets for entering your H-SAF username and password. These credentials are required for accessing and downloading H64 data from the H-SAF FTP server.  \n",
    "Ensure you have valid credentials. If you don’t, you can register on the [H-SAF website](https://hsaf.meteoam.it/).\n"
   ]
  },
  {
   "cell_type": "code",
   "execution_count": null,
   "metadata": {},
   "outputs": [],
   "source": [
    "# User authentication widgets\n",
    "username = widgets.Text(description='Username:', disabled=False)\n",
    "psw = widgets.Password(description\n",
    "                       ='Password:', disabled=False)\n",
    "\n",
    "\n",
    "\n",
    "display(widgets.HBox([username, psw]))"
   ]
  },
  {
   "cell_type": "markdown",
   "metadata": {},
   "source": [
    "### Specify Time Period  \n",
    "This cell initializes date picker widgets for specifying the start and end dates of the desired data range.  \n",
    "- The selected dates define the period for which H64 data will be downloaded.  \n",
    "- Ensure the end date is not earlier than the start date."
   ]
  },
  {
   "cell_type": "code",
   "execution_count": null,
   "metadata": {},
   "outputs": [],
   "source": [
    "# Date selection widgets\n",
    "datestart = widgets.DatePicker(description='Start Date', disabled=False, value=date.today(), max=date.today())\n",
    "dateend = widgets.DatePicker(description='End Date', disabled=False, value=date.today(), max=date.today())\n",
    "display(widgets.HBox([datestart, dateend]))"
   ]
  },
  {
   "cell_type": "markdown",
   "metadata": {},
   "source": [
    "### Define Area of Interest (AOI)  \n",
    "This cell provides two options for defining the AOI:  \n",
    "1. **Bounding Box**: Use numeric inputs to specify the coordinates of the region of interest. The format must align with the WGS 84 coordinate system.  \n",
    "2. **Shapefile**: Upload a shapefile that outlines your region of interest. Ensure the shapefile is accurate and in the required format.  \n",
    "A tab widget allows you to switch between the bounding box and shapefile options.\n",
    "\n"
   ]
  },
  {
   "cell_type": "code",
   "execution_count": null,
   "metadata": {},
   "outputs": [],
   "source": [
    "aoi_shp = data_access.create_shp_widgets()\n",
    "aoi_box = data_access.create_box_widgets()\n",
    "aoi_tab = widgets.Tab()\n",
    "tab_contents = ['Area by Bounding Box', 'Area by Shapefile']\n",
    "children = [aoi_box, aoi_shp]\n",
    "aoi_tab.children = children\n",
    "for i in range(len(tab_contents)):\n",
    "    aoi_tab.set_title(i, tab_contents[i])\n",
    "aoi_tab"
   ]
  },
  {
   "cell_type": "markdown",
   "metadata": {},
   "source": [
    "### Data Download  \n",
    "This cell executes the `download_h64()` method based on the user inputs:  \n",
    "- The AOI and date range are passed to the method.  \n",
    "- If using a bounding box, the coordinates are converted into a polygon for processing.  \n",
    "- If using a shapefile, it is reprojected into the required coordinate reference system.  \n",
    "\n",
    "The cell also includes error handling to notify the user of any issues (e.g., incorrect credentials, invalid AOI format, or server issues)."
   ]
  },
  {
   "cell_type": "code",
   "execution_count": null,
   "metadata": {
    "scrolled": true
   },
   "outputs": [],
   "source": [
    "try:\n",
    "    # Get the value of the AOI object\n",
    "    if aoi_tab.selected_index==0:\n",
    "        bb_coord = []\n",
    "        aoi = (aoi_tab.children[0].children[1:])\n",
    "        for child in aoi:\n",
    "            bb_coord.append(child.value)\n",
    "        x = np.array([bb_coord[0], bb_coord[1], bb_coord[1], bb_coord[0]])\n",
    "        y = np.array([bb_coord[2], bb_coord[2], bb_coord[3], bb_coord[3]])\n",
    "        polygon = Polygon(zip(x, y))\n",
    "        aoi_gdf = gpd.GeoDataFrame(index=[0], crs=\"EPSG:4326\", geometry=[polygon])\n",
    "        aoi_gdf = aoi_gdf.to_crs(\"EPSG:4326\")\n",
    "        \n",
    "        data_access.download_h64(username.value, psw.value, datestart.value, dateend.value, aoi_gdf)\n",
    "\n",
    "    elif aoi_tab.selected_index==1:\n",
    "        shp_path = (aoi_tab.children[1].children[0].value)\n",
    "\n",
    "        # Read the shapefile to start the spatial analysis\n",
    "        aoi_gdf = gpd.read_file(shp_path)\n",
    "\n",
    "        # Reproject the shapefile to the CRS of data\n",
    "        aoi_gdf = aoi_gdf.to_crs(\"EPSG:4326\")\n",
    "\n",
    "        # Proceed to download the data\n",
    "        data_access.download_h64(username.value, psw.value, datestart.value, dateend.value, aoi_gdf)\n",
    "\n",
    "except Exception as e:\n",
    "    print(f'Error downloading data: {str(e)}')\n",
    "    "
   ]
  },
  {
   "cell_type": "markdown",
   "metadata": {},
   "source": [
    "### Notes  \n",
    "- Ensure all required libraries (e.g., `xarray`, `geopandas`, `shapely`) are installed and properly configured.  \n",
    "- Verify that the AOI coordinates or shapefile are within the supported geographical range of the H64 dataset."
   ]
  },
  {
   "cell_type": "markdown",
   "metadata": {},
   "source": [
    "<table style=\"width: 100%; border-collapse: collapse;\">\n",
    "    <tr>\n",
    "        <td style=\"text-align: left; font-size: 15px;\">\n",
    "            <a href=\"overview.ipynb\" style=\"text-decoration:none;\">&larr; Overview of H64 Product</a>\n",
    "        </td>\n",
    "        <td style=\"text-align: right; font-size: 15px;\">\n",
    "            <a href=\"data_visualisation.ipynb\" style=\"text-decoration:none;\">Data Visualisation &rarr;</a>\n",
    "        </td>\n",
    "    </tr>\n",
    "</table>"
   ]
  },
  {
   "cell_type": "code",
   "execution_count": null,
   "metadata": {},
   "outputs": [],
   "source": []
  }
 ],
 "metadata": {
  "kernelspec": {
   "display_name": "Python 3 (ipykernel)",
   "language": "python",
   "name": "python3"
  },
  "language_info": {
   "codemirror_mode": {
    "name": "ipython",
    "version": 3
   },
   "file_extension": ".py",
   "mimetype": "text/x-python",
   "name": "python",
   "nbconvert_exporter": "python",
   "pygments_lexer": "ipython3",
   "version": "3.8.17"
  }
 },
 "nbformat": 4,
 "nbformat_minor": 2
}
